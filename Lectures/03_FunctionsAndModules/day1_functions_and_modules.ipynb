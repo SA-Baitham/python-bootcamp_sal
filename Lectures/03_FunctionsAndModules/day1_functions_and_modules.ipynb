{
 "cells": [
  {
   "cell_type": "code",
   "execution_count": 1,
   "metadata": {
    "collapsed": false
   },
   "outputs": [
    {
     "data": {
      "text/html": [
       "\n",
       "        <iframe\n",
       "            width=\"640\"\n",
       "            height=\"390\"\n",
       "            src=\"https://www.youtube.com/embed/cWDdd5KKhts?start=86\"\n",
       "            frameborder=\"0\"\n",
       "            allowfullscreen\n",
       "            \n",
       "        ></iframe>\n",
       "        "
      ],
      "text/plain": [
       "<IPython.lib.display.YouTubeVideo at 0x7fe230e11390>"
      ]
     },
     "execution_count": 1,
     "metadata": {},
     "output_type": "execute_result"
    }
   ],
   "source": [
    "from IPython.display import YouTubeVideo\n",
    "YouTubeVideo(\"cWDdd5KKhts\",start=86,width=\"640\",height=\"390\")"
   ]
  },
  {
   "cell_type": "markdown",
   "metadata": {},
   "source": [
    "# Functions & modules\n",
    "\n",
    "## Functions\n",
    "\n",
    "Python can be both procedural (using functions) and object oriented (using classes)\n",
    "\n",
    "[We do objects tomorrow, but much of the function stuff now will also be applicable.]\n",
    "\n",
    "### Functions looks like:\n",
    "\n",
    "> `def` `function_name`(`arg1`,`arg2`, ..., `kw1`=v1, `kw2`=v2, `kw3`=v3, ...)\n",
    "\n",
    " - argX are `arguments`: required (and sequence is important)\n",
    " - kwX are `keywords`: optional (sequence unimportant; vals act like defaults)"
   ]
  },
  {
   "cell_type": "markdown",
   "metadata": {},
   "source": [
    "<u>You can name a function anything you want as long as it</u>:\n",
    " - contains only numbers, letters, underscore\n",
    " - does not start with a number\n",
    " - is not the same name as a built-in function (like print)\n",
    " \n",
    " <pre>\n",
    " \n",
    " </pre>\n",
    "<div class=\"alert alert-info\">\n",
    "  There is no difference between functions and procedures:\n",
    "  unlike, say in, IDL, in Python functions that return nothing formally, still return None\n",
    "</div>"
   ]
  },
  {
   "cell_type": "code",
   "execution_count": 6,
   "metadata": {
    "collapsed": false
   },
   "outputs": [
    {
     "data": {
      "text/plain": [
       "5"
      ]
     },
     "execution_count": 6,
     "metadata": {},
     "output_type": "execute_result"
    }
   ],
   "source": [
    "def addnums(x,y):\n",
    "    return x + y\n",
    "\n",
    "addnums(2,3)"
   ]
  },
  {
   "cell_type": "code",
   "execution_count": 7,
   "metadata": {
    "collapsed": false
   },
   "outputs": [
    {
     "data": {
      "text/plain": [
       "34.3"
      ]
     },
     "execution_count": 7,
     "metadata": {},
     "output_type": "execute_result"
    }
   ],
   "source": [
    "addnums(0x1f,3.3)"
   ]
  },
  {
   "cell_type": "code",
   "execution_count": 8,
   "metadata": {
    "collapsed": false
   },
   "outputs": [
    {
     "data": {
      "text/plain": [
       "'ab'"
      ]
     },
     "execution_count": 8,
     "metadata": {},
     "output_type": "execute_result"
    }
   ],
   "source": [
    "addnums(\"a\",\"b\")   # oh no!"
   ]
  },
  {
   "cell_type": "code",
   "execution_count": 10,
   "metadata": {
    "collapsed": false
   },
   "outputs": [
    {
     "ename": "TypeError",
     "evalue": "can only concatenate str (not \"int\") to str",
     "output_type": "error",
     "traceback": [
      "\u001b[0;31m---------------------------------------------------------------------------\u001b[0m",
      "\u001b[0;31mTypeError\u001b[0m                                 Traceback (most recent call last)",
      "Cell \u001b[0;32mIn[10], line 1\u001b[0m\n\u001b[0;32m----> 1\u001b[0m \u001b[43maddnums\u001b[49m\u001b[43m(\u001b[49m\u001b[38;5;124;43m\"\u001b[39;49m\u001b[38;5;124;43mcat\u001b[39;49m\u001b[38;5;124;43m\"\u001b[39;49m\u001b[43m,\u001b[49m\u001b[38;5;241;43m23232\u001b[39;49m\u001b[43m)\u001b[49m\n",
      "Cell \u001b[0;32mIn[6], line 2\u001b[0m, in \u001b[0;36maddnums\u001b[0;34m(x, y)\u001b[0m\n\u001b[1;32m      1\u001b[0m \u001b[38;5;28;01mdef\u001b[39;00m \u001b[38;5;21maddnums\u001b[39m(x,y):\n\u001b[0;32m----> 2\u001b[0m     \u001b[38;5;28;01mreturn\u001b[39;00m \u001b[43mx\u001b[49m\u001b[43m \u001b[49m\u001b[38;5;241;43m+\u001b[39;49m\u001b[43m \u001b[49m\u001b[43my\u001b[49m\n",
      "\u001b[0;31mTypeError\u001b[0m: can only concatenate str (not \"int\") to str"
     ]
    }
   ],
   "source": [
    "addnums(\"cat\",23232)"
   ]
  },
  {
   "cell_type": "code",
   "execution_count": 16,
   "metadata": {},
   "outputs": [
    {
     "data": {
      "text/plain": [
       "'cat23232'"
      ]
     },
     "execution_count": 16,
     "metadata": {},
     "output_type": "execute_result"
    }
   ],
   "source": [
    "addnums(\"cat\",str(23232))"
   ]
  },
  {
   "cell_type": "markdown",
   "metadata": {},
   "source": [
    "<div class=\"alert alert-warning\">\n",
    "Unlike in C, we cannot declare what type of variables are required by the function. Python is dynamically typed.\n",
    "</div>"
   ]
  },
  {
   "cell_type": "code",
   "execution_count": 17,
   "metadata": {
    "collapsed": false
   },
   "outputs": [
    {
     "data": {
      "text/plain": [
       "5.0"
      ]
     },
     "execution_count": 17,
     "metadata": {},
     "output_type": "execute_result"
    }
   ],
   "source": [
    "def addnums(x,y):\n",
    "    if isinstance(x,(float,int)) and isinstance(y,(float,int)):\n",
    "        return x + y\n",
    "    print(\"I cannot add these types (\" + str(type(x)) + \", \" + str(type(y)) + \")\")\n",
    "    return\n",
    "\n",
    "addnums(2,3.0)"
   ]
  },
  {
   "cell_type": "code",
   "execution_count": 18,
   "metadata": {
    "collapsed": false
   },
   "outputs": [
    {
     "name": "stdout",
     "output_type": "stream",
     "text": [
      "I cannot add these types (<class 'int'>, <class 'str'>)\n"
     ]
    }
   ],
   "source": [
    "addnums(1,\"a\")"
   ]
  },
  {
   "cell_type": "markdown",
   "metadata": {},
   "source": [
    "Python 3 does have `function annotations` that allow the arbitrary assignments of information to function arguments. There are ways to \"enforce\" typing at runtime, allow function annotations are usually used for static code analysis.\n",
    "\n",
    "```python\n",
    "def return_hello(name: str, how_many: int) -> str:\n",
    "    return(\"hello, \" +  name*how_many)\n",
    "\n",
    "In[1]: return_hello(\"friend\",2)\n",
    "\n",
    "Out[1]: 'hello, friendfriend'\n",
    "```"
   ]
  },
  {
   "cell_type": "markdown",
   "metadata": {},
   "source": [
    "## Scope"
   ]
  },
  {
   "cell_type": "code",
   "execution_count": 19,
   "metadata": {
    "collapsed": false
   },
   "outputs": [
    {
     "data": {
      "text/plain": [
       "<function __main__.addnums(x, y)>"
      ]
     },
     "execution_count": 19,
     "metadata": {},
     "output_type": "execute_result"
    }
   ],
   "source": [
    "addnums"
   ]
  },
  {
   "cell_type": "code",
   "execution_count": 20,
   "metadata": {
    "collapsed": false
   },
   "outputs": [
    {
     "data": {
      "text/plain": [
       "140609455956480"
      ]
     },
     "execution_count": 20,
     "metadata": {},
     "output_type": "execute_result"
    }
   ],
   "source": [
    "id(addnums)"
   ]
  },
  {
   "cell_type": "code",
   "execution_count": 21,
   "metadata": {
    "collapsed": false
   },
   "outputs": [
    {
     "data": {
      "text/plain": [
       "function"
      ]
     },
     "execution_count": 21,
     "metadata": {},
     "output_type": "execute_result"
    }
   ],
   "source": [
    "type(addnums)"
   ]
  },
  {
   "cell_type": "code",
   "execution_count": 22,
   "metadata": {
    "collapsed": false
   },
   "outputs": [
    {
     "data": {
      "text/plain": [
       "11"
      ]
     },
     "execution_count": 22,
     "metadata": {},
     "output_type": "execute_result"
    }
   ],
   "source": [
    "x = 2\n",
    "addnums(5,6)"
   ]
  },
  {
   "cell_type": "code",
   "execution_count": 23,
   "metadata": {
    "collapsed": false
   },
   "outputs": [
    {
     "name": "stdout",
     "output_type": "stream",
     "text": [
      "2\n"
     ]
    }
   ],
   "source": [
    "print(x)"
   ]
  },
  {
   "cell_type": "markdown",
   "metadata": {},
   "source": [
    "<div class=\"alert alert-info\">\n",
    "Python has it’s own local variables list. `x` is not modified globally (unless you make it an explict `global` variable).</div>"
   ]
  },
  {
   "cell_type": "code",
   "execution_count": 24,
   "metadata": {
    "collapsed": true
   },
   "outputs": [],
   "source": [
    "def numop(x,y):\n",
    "    x *= 3.14\n",
    "    return x + y"
   ]
  },
  {
   "cell_type": "code",
   "execution_count": 25,
   "metadata": {
    "collapsed": false
   },
   "outputs": [
    {
     "data": {
      "text/plain": [
       "6.140000000000001"
      ]
     },
     "execution_count": 25,
     "metadata": {},
     "output_type": "execute_result"
    }
   ],
   "source": [
    "x = 1\n",
    "numop(x,3)"
   ]
  },
  {
   "cell_type": "code",
   "execution_count": 26,
   "metadata": {
    "collapsed": false
   },
   "outputs": [
    {
     "name": "stdout",
     "output_type": "stream",
     "text": [
      "1\n"
     ]
    }
   ],
   "source": [
    "print(x)"
   ]
  },
  {
   "cell_type": "markdown",
   "metadata": {},
   "source": [
    "Let's try to make a `global` variable:"
   ]
  },
  {
   "cell_type": "code",
   "execution_count": 27,
   "metadata": {
    "collapsed": true
   },
   "outputs": [],
   "source": [
    "def numop(x,y):\n",
    "    x *= 3.14\n",
    "    global a\n",
    "    a += 1\n",
    "    return x + y, a  ## note: we're returning a tuple here"
   ]
  },
  {
   "cell_type": "code",
   "execution_count": 28,
   "metadata": {
    "collapsed": false
   },
   "outputs": [
    {
     "data": {
      "text/plain": [
       "(4.140000000000001, 2)"
      ]
     },
     "execution_count": 28,
     "metadata": {},
     "output_type": "execute_result"
    }
   ],
   "source": [
    "a = 1\n",
    "numop(1,1)"
   ]
  },
  {
   "cell_type": "code",
   "execution_count": 29,
   "metadata": {
    "collapsed": false
   },
   "outputs": [
    {
     "data": {
      "text/plain": [
       "(4.140000000000001, 3)"
      ]
     },
     "execution_count": 29,
     "metadata": {},
     "output_type": "execute_result"
    }
   ],
   "source": [
    "numop(1,1)"
   ]
  },
  {
   "cell_type": "markdown",
   "metadata": {},
   "source": [
    "<div class=\"alert alert-success\">\n",
    "We can return whatever we want from a function (dictionary, tuple, lists, strings, etc.). This is really awesome...\n",
    "</div>"
   ]
  },
  {
   "cell_type": "markdown",
   "metadata": {},
   "source": [
    "### keywords"
   ]
  },
  {
   "cell_type": "code",
   "execution_count": 30,
   "metadata": {
    "collapsed": true
   },
   "outputs": [],
   "source": [
    "def numop1(x,y,multiplier=1.0,greetings=\"Thank you for your inquiry.\"):\n",
    "    if greetings is not None:\n",
    "        print(greetings)\n",
    "    return (x + y)*multiplier"
   ]
  },
  {
   "cell_type": "code",
   "execution_count": 31,
   "metadata": {
    "collapsed": false
   },
   "outputs": [
    {
     "name": "stdout",
     "output_type": "stream",
     "text": [
      "Thank you for your inquiry.\n"
     ]
    },
    {
     "data": {
      "text/plain": [
       "2.0"
      ]
     },
     "execution_count": 31,
     "metadata": {},
     "output_type": "execute_result"
    }
   ],
   "source": [
    "numop1(1,1)"
   ]
  },
  {
   "cell_type": "code",
   "execution_count": 32,
   "metadata": {
    "collapsed": false
   },
   "outputs": [
    {
     "data": {
      "text/plain": [
       "-1.0"
      ]
     },
     "execution_count": 32,
     "metadata": {},
     "output_type": "execute_result"
    }
   ],
   "source": [
    "numop1(1,1,multiplier=-0.5,greetings=None)"
   ]
  },
  {
   "cell_type": "markdown",
   "metadata": {},
   "source": [
    "<div class=\"alert alert-info\">\n",
    "keywords are a natural way to grow new functionality without \"breaking\" old code\n",
    "</div>\n",
    "\n",
    "### `*arg`, `**kwargs` captures unspecified args and keywords\n",
    "\n",
    "see http://docs.python.org/tutorial/controlflow.html#keyword-arguments"
   ]
  },
  {
   "cell_type": "code",
   "execution_count": 33,
   "metadata": {
    "collapsed": true
   },
   "outputs": [],
   "source": [
    "def cheeseshop(kind, *arguments, **keywords):\n",
    "    print(\"— Do you have any\", kind + \"?\")\n",
    "    print(\"— I'm sorry, we're all out of\", kind)\n",
    "    for arg in arguments: \n",
    "        print(arg)\n",
    "    \n",
    "    print(\"-\" * 40)\n",
    "    keys = list(keywords.keys())\n",
    "    keys.sort()\n",
    "    for kw in keys: \n",
    "        print(kw, \":\", keywords[kw])"
   ]
  },
  {
   "cell_type": "code",
   "execution_count": 34,
   "metadata": {
    "collapsed": false
   },
   "outputs": [
    {
     "name": "stdout",
     "output_type": "stream",
     "text": [
      "— Do you have any Limburger?\n",
      "— I'm sorry, we're all out of Limburger\n",
      "It's very runny, sir.\n",
      "It's really very, VERY runny, sir.\n",
      "----------------------------------------\n",
      "client : John Cleese\n",
      "shopkeeper : Michael Palin\n",
      "sketch : Cheese Shop Sketch\n"
     ]
    }
   ],
   "source": [
    "cheeseshop(\"Limburger\", \"It's very runny, sir.\",\n",
    "           \"It's really very, VERY runny, sir.\",\n",
    "           shopkeeper='Michael Palin',\n",
    "           client=\"John Cleese\",\n",
    "           sketch=\"Cheese Shop Sketch\")"
   ]
  },
  {
   "cell_type": "markdown",
   "metadata": {},
   "source": [
    "# Documentation\n",
    "Just the Right thing to Do and Python makes it dead simple\n",
    "\n",
    "### `Docstring`: the first unassigned string in a function (or class, method, program, etc.)"
   ]
  },
  {
   "cell_type": "code",
   "execution_count": 35,
   "metadata": {
    "collapsed": false
   },
   "outputs": [],
   "source": [
    "def numop1(x,y,multiplier=1.0,greetings=\"Thank you for your inquiry.\"):\n",
    "    \"\"\" numop1 -- this does a simple operation on two numbers. \n",
    "     We expect x,y are numbers and return x + y times the multiplier\n",
    "     multiplier is also a number (a float is preferred) and is optional. \n",
    "     It defaults to 1.0.\n",
    "     You can also specify a small greeting as a string. \"\"\"\n",
    "    if greetings is not None:\n",
    "        print(greetings)\n",
    "        \n",
    "    return (x + y)*multiplier"
   ]
  },
  {
   "cell_type": "code",
   "execution_count": 36,
   "metadata": {
    "collapsed": false
   },
   "outputs": [
    {
     "name": "stdout",
     "output_type": "stream",
     "text": [
      "Help on function numop1 in module __main__:\n",
      "\n",
      "numop1(x, y, multiplier=1.0, greetings='Thank you for your inquiry.')\n",
      "    numop1 -- this does a simple operation on two numbers. \n",
      "    We expect x,y are numbers and return x + y times the multiplier\n",
      "    multiplier is also a number (a float is preferred) and is optional. \n",
      "    It defaults to 1.0.\n",
      "    You can also specify a small greeting as a string.\n",
      "\n"
     ]
    }
   ],
   "source": [
    "help(numop1)"
   ]
  },
  {
   "cell_type": "code",
   "execution_count": 37,
   "metadata": {
    "collapsed": true
   },
   "outputs": [],
   "source": [
    "del numop1 ## remove that function from the namespace"
   ]
  },
  {
   "cell_type": "markdown",
   "metadata": {},
   "source": [
    "Let's make some nice looking webpage documentation"
   ]
  },
  {
   "cell_type": "code",
   "execution_count": 38,
   "metadata": {
    "collapsed": false
   },
   "outputs": [
    {
     "name": "stdout",
     "output_type": "stream",
     "text": [
      "Overwriting numop1.py\n"
     ]
    }
   ],
   "source": [
    "%%writefile numop1.py\n",
    "\n",
    "\"\"\"Some functions written to demonstrate a bunch of concepts like modules, import, and command-line programming.\n",
    "  \n",
    "   created by Josh Bloom at UC Berkeley (ucbpythonclass+bootcamp@gmail.com)\n",
    "\"\"\"\n",
    "\n",
    "def numop1(x,y,multiplier=1.0,greetings=\"Thank you for your inquiry.\"):\n",
    "    \"\"\" numop1 -- this does a simple operation on two numbers. \n",
    "     We expect x,y are numbers and return x + y times the multiplier\n",
    "     multiplier is also a number (a float is preferred) and is optional. \n",
    "     It defaults to 1.0.\n",
    "     You can also specify a small greeting as a string. \"\"\"\n",
    "    if greetings is not None:\n",
    "        print(greetings)\n",
    "        \n",
    "    return (x + y)*multiplier"
   ]
  },
  {
   "cell_type": "code",
   "execution_count": 39,
   "metadata": {
    "collapsed": false
   },
   "outputs": [
    {
     "name": "stdout",
     "output_type": "stream",
     "text": [
      "/bin/bash: line 1: pydoc: command not found\n"
     ]
    }
   ],
   "source": [
    "!pydoc -w numop1"
   ]
  },
  {
   "cell_type": "code",
   "execution_count": 40,
   "metadata": {
    "collapsed": false
   },
   "outputs": [
    {
     "data": {
      "text/html": [
       "\n",
       "        <iframe\n",
       "            width=\"700\"\n",
       "            height=\"350\"\n",
       "            src=\"numop1.html\"\n",
       "            frameborder=\"0\"\n",
       "            allowfullscreen\n",
       "            \n",
       "        ></iframe>\n",
       "        "
      ],
      "text/plain": [
       "<IPython.lib.display.IFrame at 0x7fe230bd4c40>"
      ]
     },
     "execution_count": 40,
     "metadata": {},
     "output_type": "execute_result"
    }
   ],
   "source": [
    "from IPython.display import IFrame\n",
    "IFrame('numop1.html', width=700, height=350)"
   ]
  },
  {
   "cell_type": "markdown",
   "metadata": {},
   "source": [
    "# Modules\n",
    "\n",
    "Organized units (written as files) which contain functions, statements and other definitions\n",
    "\n",
    "<div class=\"alert alert-success\">\n",
    "Any file ending in `.py` is treated as a module\n",
    "(e.g., `numop1.py`, which names and defines a function `numop1`)\n",
    "</div>\n",
    "\n",
    "Modules: own global names/functions so you can name things whatever you want there and not conflict with the names in other modules."
   ]
  },
  {
   "cell_type": "code",
   "execution_count": 41,
   "metadata": {
    "collapsed": false
   },
   "outputs": [
    {
     "name": "stdout",
     "output_type": "stream",
     "text": [
      "Overwriting numfun1.py\n"
     ]
    }
   ],
   "source": [
    "%%writefile numfun1.py\n",
    "\"\"\"\n",
    "small demo of modules\n",
    "\"\"\"\n",
    "\n",
    "def numop1(x,y,multiplier=1.0,greetings=\"Thank you for your inquiry.\"):\n",
    "    \"\"\" numop1 -- this does a simple operation on two numbers. \n",
    "         We expect x,y are numbers and return x + y times the multiplier\n",
    "         multiplier is also a number (a float is preferred) and is optional. \n",
    "         It defaults to 1.0.\n",
    "         You can also specify a small greeting as a string.\"\"\"\n",
    "    \n",
    "    if greetings is not None:\n",
    "        print(greetings)\n",
    "    \n",
    "    return (x + y)*multiplier\n"
   ]
  },
  {
   "cell_type": "markdown",
   "metadata": {},
   "source": [
    "## `import` *module_name*\n",
    "gives us access to that module’s functions"
   ]
  },
  {
   "cell_type": "code",
   "execution_count": 42,
   "metadata": {
    "collapsed": false
   },
   "outputs": [],
   "source": [
    "import numfun1"
   ]
  },
  {
   "cell_type": "code",
   "execution_count": 43,
   "metadata": {
    "collapsed": false
   },
   "outputs": [
    {
     "data": {
      "text/plain": [
       "10"
      ]
     },
     "execution_count": 43,
     "metadata": {},
     "output_type": "execute_result"
    }
   ],
   "source": [
    "numfun1.numop1(2,3,2,greetings=None)"
   ]
  },
  {
   "cell_type": "code",
   "execution_count": 44,
   "metadata": {
    "collapsed": false
   },
   "outputs": [
    {
     "ename": "NameError",
     "evalue": "name 'numop1' is not defined",
     "output_type": "error",
     "traceback": [
      "\u001b[0;31m---------------------------------------------------------------------------\u001b[0m",
      "\u001b[0;31mNameError\u001b[0m                                 Traceback (most recent call last)",
      "Cell \u001b[0;32mIn[44], line 1\u001b[0m\n\u001b[0;32m----> 1\u001b[0m \u001b[43mnumop1\u001b[49m(\u001b[38;5;241m2\u001b[39m,\u001b[38;5;241m3\u001b[39m,\u001b[38;5;241m2\u001b[39m,greetings\u001b[38;5;241m=\u001b[39m\u001b[38;5;28;01mNone\u001b[39;00m)\n",
      "\u001b[0;31mNameError\u001b[0m: name 'numop1' is not defined"
     ]
    }
   ],
   "source": [
    "numop1(2,3,2,greetings=None)"
   ]
  },
  {
   "cell_type": "code",
   "execution_count": null,
   "metadata": {
    "collapsed": false
   },
   "outputs": [],
   "source": [
    "%%writefile numfun2.py\n",
    "\"\"\"\n",
    "small demo of modules\n",
    "\"\"\"\n",
    "\n",
    "## do some stuff and set some variables\n",
    "print(\"numfun2 in the house\")\n",
    "x    = 2\n",
    "s    = \"spamm\"\n",
    "\n",
    "def numop1(x,y,multiplier=1.0,greetings=\"Thank you for your inquiry.\"):\n",
    "    \"\"\" \n",
    "Purpose: does a simple operation on two numbers. \n",
    "\n",
    "Input: We expect x,y are numbers \n",
    "       multiplier is also a number (a float is preferred) and is optional.  \n",
    "       It defaults to 1.0. You can also specify a small greeting as a string.\n",
    "\n",
    "Output: return x + y times the multiplier\n",
    "    \"\"\"\n",
    "    if greetings is not None:\n",
    "          print(greetings)\n",
    "    return (x + y)*multiplier\n"
   ]
  },
  {
   "cell_type": "code",
   "execution_count": null,
   "metadata": {
    "collapsed": false
   },
   "outputs": [],
   "source": [
    "import numfun2"
   ]
  },
  {
   "cell_type": "code",
   "execution_count": null,
   "metadata": {
    "collapsed": true
   },
   "outputs": [],
   "source": [
    "import numfun2         # numfun2 is already imported...do nothing"
   ]
  },
  {
   "cell_type": "code",
   "execution_count": null,
   "metadata": {
    "collapsed": false
   },
   "outputs": [],
   "source": [
    "print(numfun2.x, numfun2.s)"
   ]
  },
  {
   "cell_type": "code",
   "execution_count": null,
   "metadata": {
    "collapsed": false
   },
   "outputs": [],
   "source": [
    "s = \"eggs\" ; print(s, numfun2.s)"
   ]
  },
  {
   "cell_type": "code",
   "execution_count": null,
   "metadata": {
    "collapsed": true
   },
   "outputs": [],
   "source": [
    "numfun2.s = s"
   ]
  },
  {
   "cell_type": "code",
   "execution_count": null,
   "metadata": {
    "collapsed": false
   },
   "outputs": [],
   "source": [
    "print(s, numfun2.s)"
   ]
  },
  {
   "cell_type": "code",
   "execution_count": null,
   "metadata": {
    "collapsed": true
   },
   "outputs": [],
   "source": [
    "# delete numfun2 from the namespace\n",
    "del numfun2"
   ]
  },
  {
   "cell_type": "markdown",
   "metadata": {},
   "source": [
    "\n",
    "   - `dir()` gives a list of in scope variables\n",
    "   - `globals()` gives a dictionary of global variables\n",
    "   - `locals()` gives a dictionary of local variables\n"
   ]
  },
  {
   "cell_type": "code",
   "execution_count": null,
   "metadata": {
    "collapsed": false
   },
   "outputs": [],
   "source": [
    "dir()"
   ]
  },
  {
   "cell_type": "markdown",
   "metadata": {},
   "source": [
    "how to bring some of module’s functions into the current namespace:\n",
    "\n",
    "```python\n",
    "from module_name import function_name\n",
    "from module_name import variable\n",
    "from module_name import variable, function_name1, function_name2, ...\n",
    "```\n",
    "\n",
    "Let's restart the kernel."
   ]
  },
  {
   "cell_type": "code",
   "execution_count": null,
   "metadata": {
    "collapsed": false
   },
   "outputs": [],
   "source": [
    "from numfun2 import x, numop1"
   ]
  },
  {
   "cell_type": "code",
   "execution_count": null,
   "metadata": {
    "collapsed": false
   },
   "outputs": [],
   "source": [
    "x == 2"
   ]
  },
  {
   "cell_type": "code",
   "execution_count": null,
   "metadata": {
    "collapsed": false
   },
   "outputs": [],
   "source": [
    "numop1(2,3,2,greetings=None)"
   ]
  },
  {
   "cell_type": "code",
   "execution_count": null,
   "metadata": {
    "collapsed": false
   },
   "outputs": [],
   "source": [
    "s"
   ]
  },
  {
   "cell_type": "code",
   "execution_count": null,
   "metadata": {
    "collapsed": false
   },
   "outputs": [],
   "source": [
    "numfun2.x"
   ]
  },
  {
   "cell_type": "code",
   "execution_count": null,
   "metadata": {
    "collapsed": false
   },
   "outputs": [],
   "source": [
    "import numfun2\n",
    "numfun2.x"
   ]
  },
  {
   "cell_type": "markdown",
   "metadata": {},
   "source": [
    "# Renaming a function (or variable) for your namespace:\n",
    "\n",
    "```python\n",
    "from module_name import name as my_name\n",
    "```"
   ]
  },
  {
   "cell_type": "code",
   "execution_count": null,
   "metadata": {
    "collapsed": true
   },
   "outputs": [],
   "source": [
    "from numfun2 import s as my_fav_food\n",
    "from numfun2 import numop1 as wicked_awesome_adder"
   ]
  },
  {
   "cell_type": "code",
   "execution_count": null,
   "metadata": {
    "collapsed": false
   },
   "outputs": [],
   "source": [
    "print(my_fav_food)"
   ]
  },
  {
   "cell_type": "code",
   "execution_count": null,
   "metadata": {
    "collapsed": false
   },
   "outputs": [],
   "source": [
    "print(wicked_awesome_adder(2,3,1))"
   ]
  },
  {
   "cell_type": "markdown",
   "metadata": {},
   "source": [
    "# Kitchen-Sinking It\n",
    "\n",
    "```python\n",
    "from module_name import *\n",
    "```"
   ]
  },
  {
   "cell_type": "code",
   "execution_count": null,
   "metadata": {
    "collapsed": true
   },
   "outputs": [],
   "source": [
    "from numfun2 import *"
   ]
  },
  {
   "cell_type": "code",
   "execution_count": null,
   "metadata": {
    "collapsed": false
   },
   "outputs": [],
   "source": [
    "print(numop1(x,3,1))"
   ]
  },
  {
   "cell_type": "markdown",
   "metadata": {},
   "source": [
    "<div class=\"alert alert-warning\">\n",
    "This `from ... import *` is very convenient in the interpreter, but considered bad coding style. It pollutes your namespace.\n",
    "</div>"
   ]
  },
  {
   "cell_type": "markdown",
   "metadata": {},
   "source": [
    "# Built-In Modules\n",
    "\n",
    "give access to the full range of what Python can do\n",
    "\n",
    "<u>For example,</u>\n",
    "\n",
    "  - `sys` exposes interpreter stuff & interactions (like environment and file I/O)\n",
    "  - `os` exposes platform-specific OS functions (like file statistics, directory services) \n",
    "  - `math` basic mathematical functions & constants \n",
    "\n",
    "These are super battle tested and close to the optimal way for doing things within Python"
   ]
  },
  {
   "cell_type": "code",
   "execution_count": null,
   "metadata": {
    "collapsed": false
   },
   "outputs": [],
   "source": [
    "import sys\n",
    "help(sys)"
   ]
  },
  {
   "cell_type": "code",
   "execution_count": 45,
   "metadata": {
    "collapsed": false
   },
   "outputs": [
    {
     "name": "stdout",
     "output_type": "stream",
     "text": [
      "Overwriting getinfo.py\n"
     ]
    }
   ],
   "source": [
    "%%writefile getinfo.py\n",
    "\n",
    "import os\n",
    "import sys\n",
    "\n",
    "def getinfo(path=\".\"):\n",
    "    \"\"\"\n",
    "Purpose: make simple use of os and sys modules\n",
    "Input: path (default = \".\"), the directory you want to list\n",
    "    \"\"\"\n",
    "    print(\"You are using Python version \",end=\" \")\n",
    "    print(sys.version)\n",
    "    print(\"-\" * 40)\n",
    "    print(\"Files in the directory \" + str(os.path.abspath(path)) + \":\")\n",
    "    for f in os.listdir(path): \n",
    "        print(f)"
   ]
  },
  {
   "cell_type": "markdown",
   "metadata": {},
   "source": [
    "   - `os.listdir()` - return a dictionary of all the file names in the specified directory\n",
    "   - `sys.version` - string representation of the Python (and gcc) version\n",
    "   - `os.path.abspath()` - translation of given pathname to the absolute path (operating system-specific)"
   ]
  },
  {
   "cell_type": "code",
   "execution_count": 46,
   "metadata": {
    "collapsed": false
   },
   "outputs": [],
   "source": [
    "import getinfo"
   ]
  },
  {
   "cell_type": "code",
   "execution_count": 55,
   "metadata": {
    "collapsed": false
   },
   "outputs": [
    {
     "name": "stdout",
     "output_type": "stream",
     "text": [
      "You are using Python version  3.10.12 (main, Jan 17 2025, 14:35:34) [GCC 11.4.0]\n",
      "----------------------------------------\n",
      "Files in the directory /tmp:\n",
      ".XIM-unix\n",
      ".X11-unix\n",
      "noConfigDebugAdapterEndpoints-7f4df89a5fc2f2d1db64\n",
      "systemd-private-549f5fac98634f7594b4dba5b7c2ff2e-systemd-logind.service-zR7x1w\n",
      "systemd-private-549f5fac98634f7594b4dba5b7c2ff2e-systemd-resolved.service-N0YcFz\n",
      ".font-unix\n",
      ".ICE-unix\n",
      ".Test-unix\n",
      "snap-private-tmp\n",
      "pyright-3118-MlLfpDzQH4st\n",
      "python-languageserver-cancellation\n"
     ]
    }
   ],
   "source": [
    "getinfo.getinfo(\"/tmp\")"
   ]
  },
  {
   "cell_type": "markdown",
   "metadata": {},
   "source": [
    "<blockquote>\n",
    "Python’s standard library is very extensive, offering a wide range of facilities as indicated by the long table of contents listed below. The library contains built-in modules (written in C) that provide access to system functionality such as file I/O that would otherwise be inaccessible to Python programmers, as well as modules written in Python that provide standardized solutions for many problems that occur in everyday programming. Some of these modules are explicitly designed to encourage and enhance the portability of Python programs by abstracting away platform-specifics into platform-neutral APIs.\n",
    "</blockquote>\n",
    "\n",
    "<div> -- https://docs.python.org/3/library/</div>"
   ]
  },
  {
   "cell_type": "code",
   "execution_count": 58,
   "metadata": {
    "collapsed": false
   },
   "outputs": [
    {
     "data": {
      "text/html": [
       "\n",
       "        <iframe\n",
       "            width=\"90%\"\n",
       "            height=\"600\"\n",
       "            src=\"https://docs.python.org/3/library/\"\n",
       "            frameborder=\"0\"\n",
       "            allowfullscreen\n",
       "            \n",
       "        ></iframe>\n",
       "        "
      ],
      "text/plain": [
       "<IPython.lib.display.IFrame at 0x7fe230d4e6b0>"
      ]
     },
     "execution_count": 58,
     "metadata": {},
     "output_type": "execute_result"
    }
   ],
   "source": [
    "from IPython.display import IFrame\n",
    "IFrame('https://docs.python.org/3/library/', width=\"90%\", height=\"600\")"
   ]
  },
  {
   "cell_type": "markdown",
   "metadata": {},
   "source": [
    "<img src=\"http://imgs.xkcd.com/comics/python.png\">"
   ]
  },
  {
   "cell_type": "markdown",
   "metadata": {},
   "source": [
    "# Making a Script Executable\n",
    "\n",
    "When a script/module is run from the command line, a special variable called `__name__` is set to `\"__main__\"`\n",
    "\n",
    "On the first line of a script, say what to run the script with (as with Perl):"
   ]
  },
  {
   "cell_type": "code",
   "execution_count": 59,
   "metadata": {
    "collapsed": false
   },
   "outputs": [
    {
     "name": "stdout",
     "output_type": "stream",
     "text": [
      "Overwriting script_name.py\n"
     ]
    }
   ],
   "source": [
    "%%writefile script_name.py\n",
    "#!/usr/bin/env python\n",
    "\"\"\"doctring for this module\"\"\"\n",
    "\n",
    "# all your module stuff here\n",
    "\n",
    "# at the bottom stick...\n",
    "if __name__ == \"__main__\":\n",
    "    \"\"\"only executed if this module is called from the command line\"\"\"\n",
    "    \n",
    "    ## can call functions from within this module\n",
    "    print(\"I was called from the command line!\")  "
   ]
  },
  {
   "cell_type": "code",
   "execution_count": 66,
   "metadata": {},
   "outputs": [
    {
     "name": "stdout",
     "output_type": "stream",
     "text": [
      "Overwriting my_test_script.py\n"
     ]
    }
   ],
   "source": [
    "%%writefile my_test_script.py\n",
    "#!/usr/bin/env python\n",
    "\n",
    "\n",
    "if __name__ == \"__main__\":\n",
    "    print(\"I was called by saleem from the command line!\") "
   ]
  },
  {
   "cell_type": "code",
   "execution_count": 68,
   "metadata": {
    "collapsed": false
   },
   "outputs": [
    {
     "name": "stdout",
     "output_type": "stream",
     "text": [
      "I was called by saleem from the command line!\n"
     ]
    }
   ],
   "source": [
    "%%bash\n",
    "chmod a+x my_test_script.py  ## set execute permissions of that script. This works in UNIX, Mac OSX\n",
    "./my_test_script.py"
   ]
  },
  {
   "cell_type": "code",
   "execution_count": 69,
   "metadata": {},
   "outputs": [
    {
     "name": "stdout",
     "output_type": "stream",
     "text": [
      "I was called from the command line!\n"
     ]
    }
   ],
   "source": [
    "%%bash\n",
    "chmod a+x script_name.py  ## set execute permissions of that script. This works in UNIX, Mac OSX\n",
    "./script_name.py"
   ]
  },
  {
   "cell_type": "code",
   "execution_count": 70,
   "metadata": {
    "collapsed": false
   },
   "outputs": [
    {
     "name": "stdout",
     "output_type": "stream",
     "text": [
      "Overwriting modfun.py\n"
     ]
    }
   ],
   "source": [
    "%%writefile modfun.py\n",
    "#!/usr/bin/env python                                                                                                      \n",
    "\"\"\"                                                                                                                        \n",
    "Some functions written to demonstrate a bunch of concepts like modules, import                                             \n",
    "and command-line programming                                                                                               \n",
    "\"\"\"\n",
    "import os\n",
    "import sys\n",
    "\n",
    "def getinfo(path=\".\",show_version=True):\n",
    "    \"\"\"                                                                                                                    \n",
    "Purpose: make simple us of os and sys modules                                                                               Input: path (default = \".\"), the directory you want to list                                                                \n",
    "    \"\"\"\n",
    "    if show_version:\n",
    "        print(\"-\" * 40)\n",
    "        print(\"You are using Python version \",end=\" \")\n",
    "        print(sys.version)\n",
    "        print(\"-\" * 40)\n",
    "\n",
    "    print(\"Files in the directory \" + str(os.path.abspath(path)) + \":\")\n",
    "    for f in os.listdir(path): \n",
    "        print (\"  \" + f)\n",
    "    print(\"*\" * 40)\n",
    "\n",
    "if __name__ == \"__main__\":\n",
    "    \"\"\"                                                                                                                    \n",
    "Executed only if run from the command line.                                                                                \n",
    "call with                                                                                                                  \n",
    "  modfun.py <dirname> <dirname> ...                                                                                        \n",
    "If no dirname is given then list the files in the current path                                                             \n",
    "    \"\"\"\n",
    "    if len(sys.argv) == 1:\n",
    "        getinfo(\".\", show_version=True)\n",
    "    else:\n",
    "        for i,dir in enumerate(sys.argv[1:]):\n",
    "            if os.path.isdir(dir):\n",
    "                # if we have a directory then operate on it                                                                \n",
    "                # only show the version info if it's the first directory                                                   \n",
    "                getinfo(dir,show_version=(i==0))\n",
    "            else:\n",
    "                print(\"Directory: \" + str(dir) + \" does not exist.\")\n",
    "                print(\"*\" * 40)"
   ]
  },
  {
   "cell_type": "code",
   "execution_count": 71,
   "metadata": {
    "collapsed": true
   },
   "outputs": [],
   "source": [
    "!chmod a+x modfun.py"
   ]
  },
  {
   "cell_type": "code",
   "execution_count": 72,
   "metadata": {
    "collapsed": false
   },
   "outputs": [
    {
     "name": "stdout",
     "output_type": "stream",
     "text": [
      "----------------------------------------\n",
      "You are using Python version  3.10.12 (main, Jan 17 2025, 14:35:34) [GCC 11.4.0]\n",
      "----------------------------------------\n",
      "Files in the directory /home/baitham/workspace/learning/pybtcmp/Lectures/03_FunctionsAndModules:\n",
      "  my_test_script.py\n",
      "  josh2.py\n",
      "  josh1.py\n",
      "  numfun1.py\n",
      "  day1_modules_def_io.key\n",
      "  numop1.py\n",
      "  script_name.py\n",
      "  __pycache__\n",
      "  day1_modules_def_io.pdf\n",
      "  modfun.py\n",
      "  numfun2.py\n",
      "  day1_functions_and_modules.ipynb\n",
      "  getinfo.py\n",
      "****************************************\n"
     ]
    }
   ],
   "source": [
    "!./modfun.py"
   ]
  },
  {
   "cell_type": "code",
   "execution_count": 73,
   "metadata": {
    "collapsed": false
   },
   "outputs": [
    {
     "name": "stdout",
     "output_type": "stream",
     "text": [
      "----------------------------------------\n",
      "You are using Python version  3.10.12 (main, Jan 17 2025, 14:35:34) [GCC 11.4.0]\n",
      "----------------------------------------\n",
      "Files in the directory /home/baitham/workspace/learning/pybtcmp/Lectures/03_FunctionsAndModules:\n",
      "  my_test_script.py\n",
      "  josh2.py\n",
      "  josh1.py\n",
      "  numfun1.py\n",
      "  day1_modules_def_io.key\n",
      "  numop1.py\n",
      "  script_name.py\n",
      "  __pycache__\n",
      "  day1_modules_def_io.pdf\n",
      "  modfun.py\n",
      "  numfun2.py\n",
      "  day1_functions_and_modules.ipynb\n",
      "  getinfo.py\n",
      "****************************************\n",
      "Directory: MySpamDir does not exist.\n",
      "****************************************\n",
      "Files in the directory /tmp:\n",
      "  .XIM-unix\n",
      "  .X11-unix\n",
      "  noConfigDebugAdapterEndpoints-7f4df89a5fc2f2d1db64\n",
      "  systemd-private-549f5fac98634f7594b4dba5b7c2ff2e-systemd-logind.service-zR7x1w\n",
      "  systemd-private-549f5fac98634f7594b4dba5b7c2ff2e-systemd-resolved.service-N0YcFz\n",
      "  .font-unix\n",
      "  .ICE-unix\n",
      "  .Test-unix\n",
      "  snap-private-tmp\n",
      "  pyright-3118-MlLfpDzQH4st\n",
      "  python-languageserver-cancellation\n",
      "****************************************\n"
     ]
    }
   ],
   "source": [
    "!./modfun.py . MySpamDir /tmp/ "
   ]
  },
  {
   "cell_type": "markdown",
   "metadata": {},
   "source": [
    "### If you make changes to a (module) file and want to reload it into the name space:\n",
    "\n",
    "```python\n",
    "import importlib\n",
    "importlib.reload(module_name)\n",
    "```\n",
    "\n",
    "this is also true if you want to reload a module that was imported from an (unchanged) module"
   ]
  },
  {
   "cell_type": "code",
   "execution_count": 74,
   "metadata": {
    "collapsed": false
   },
   "outputs": [
    {
     "name": "stdout",
     "output_type": "stream",
     "text": [
      "Overwriting josh1.py\n"
     ]
    }
   ],
   "source": [
    "%%writefile josh1.py\n",
    "import josh2\n",
    "x = 1"
   ]
  },
  {
   "cell_type": "code",
   "execution_count": 75,
   "metadata": {
    "collapsed": false
   },
   "outputs": [
    {
     "name": "stdout",
     "output_type": "stream",
     "text": [
      "Overwriting josh2.py\n"
     ]
    }
   ],
   "source": [
    "%%writefile josh2.py\n",
    "y = 2"
   ]
  },
  {
   "cell_type": "code",
   "execution_count": 76,
   "metadata": {
    "collapsed": false
   },
   "outputs": [
    {
     "name": "stdout",
     "output_type": "stream",
     "text": [
      "2\n"
     ]
    }
   ],
   "source": [
    "import josh1 ; print(josh1.josh2.y)"
   ]
  },
  {
   "cell_type": "markdown",
   "metadata": {},
   "source": [
    "now edit `josh2.py`..."
   ]
  },
  {
   "cell_type": "code",
   "execution_count": 77,
   "metadata": {
    "collapsed": false
   },
   "outputs": [
    {
     "name": "stdout",
     "output_type": "stream",
     "text": [
      "Overwriting josh2.py\n"
     ]
    }
   ],
   "source": [
    "%%writefile josh2.py\n",
    "y = True"
   ]
  },
  {
   "cell_type": "code",
   "execution_count": 78,
   "metadata": {
    "collapsed": false
   },
   "outputs": [
    {
     "name": "stdout",
     "output_type": "stream",
     "text": [
      "2\n"
     ]
    }
   ],
   "source": [
    "import josh1 ; print(josh1.josh2.y)"
   ]
  },
  {
   "cell_type": "code",
   "execution_count": 79,
   "metadata": {
    "collapsed": false
   },
   "outputs": [
    {
     "name": "stdout",
     "output_type": "stream",
     "text": [
      "True\n"
     ]
    }
   ],
   "source": [
    "from importlib import reload\n",
    "reload(josh1.josh2) ; print(josh1.josh2.y)"
   ]
  },
  {
   "cell_type": "markdown",
   "metadata": {},
   "source": [
    "# Breakout Session: exploring some modules\n",
    "\n",
    "<div class=\"alert alert-success\">Remember that `help()` is your friend</div>"
   ]
  },
  {
   "cell_type": "markdown",
   "metadata": {},
   "source": [
    "A. create and edit a new file called `age.py`"
   ]
  },
  {
   "cell_type": "markdown",
   "metadata": {},
   "source": [
    "B. within `age.py`, import the `datetime` module\n",
    "\n",
    "  - use `datetime.datetime()` to create a variable representing when you were born\n",
    "  - use `datetime.datetime.now()` to create a variable representing now\n",
    "  - subtract the two, forming a new variable, which will be a `datetime.timedelta()` object. Print that variable.\n",
    "\n",
    "1. how many days have you been alive? How many hours?\n",
    "2. What will be the date in 1000 days from now?"
   ]
  },
  {
   "cell_type": "markdown",
   "metadata": {},
   "source": [
    "C. create and edit a new file called age1.py\n",
    "\n",
    "when run from the command line with 1 argument, `age1.py` should print out the date in days from now. If run with three arguments print the time in days since then.\n",
    "\n",
    "```bash\n",
    "prompt> ./age1.py 1000\n",
    "date in 1000 days 2017-10-09 07:40:49.682973\n",
    "prompt> ./age1.py 1980 1 8\n",
    "days since then... 11699\n",
    "```"
   ]
  },
  {
   "cell_type": "code",
   "execution_count": 162,
   "metadata": {},
   "outputs": [
    {
     "name": "stdout",
     "output_type": "stream",
     "text": [
      "Overwriting my_age.py\n"
     ]
    }
   ],
   "source": [
    "%%writefile my_age.py\n",
    "#!/usr/bin/env python\n",
    "import datetime\n",
    "\n",
    "def age(age = str(input(\"Enter your date of birth in the format yyyy.mm.dd: \"))) -> str:\n",
    "    age = age.split(\".\")\n",
    "    year, month, day = int(age[0]), int(age[1]), int(age[2])\n",
    "    dob = datetime.datetime(year,month,day)    \n",
    "    # dob = datetime.datetime(dob[0],dob[1],dob[2])\n",
    "    print(\"Age Now\")\n",
    "    print(\"............................................\")\n",
    "    age = datetime.datetime.now() - dob\n",
    "    print(f\"age in days\\t: {age.days} \\t\\tdays \")\n",
    "    print(f\"age in seconds\\t: {age.total_seconds()} \\tseconds\")\n",
    "    age_in_years = age/datetime.timedelta(days=365.25)\n",
    "    print(f\"age in years\\t: {age_in_years} \\tyears\")\n",
    "    \n",
    "\n",
    "if __name__ == \"__main__\":\n",
    "    age()"
   ]
  },
  {
   "cell_type": "code",
   "execution_count": 165,
   "metadata": {},
   "outputs": [
    {
     "name": "stdout",
     "output_type": "stream",
     "text": [
      "Age Now\n",
      "............................................\n",
      "age in days\t: 22182 \t\tdays \n",
      "age in seconds\t: 1916601098.865872 \tseconds\n",
      "age in years\t: 60.733423925326136 \tyears\n"
     ]
    }
   ],
   "source": [
    "%run my_age.py"
   ]
  },
  {
   "cell_type": "code",
   "execution_count": null,
   "metadata": {},
   "outputs": [],
   "source": [
    "def my_age()"
   ]
  }
 ],
 "metadata": {
  "kernelspec": {
   "display_name": "Python 3",
   "language": "python",
   "name": "python3"
  },
  "language_info": {
   "codemirror_mode": {
    "name": "ipython",
    "version": 3
   },
   "file_extension": ".py",
   "mimetype": "text/x-python",
   "name": "python",
   "nbconvert_exporter": "python",
   "pygments_lexer": "ipython3",
   "version": "3.10.12"
  }
 },
 "nbformat": 4,
 "nbformat_minor": 0
}
